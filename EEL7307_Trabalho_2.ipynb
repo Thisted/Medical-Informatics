{
  "cells": [
    {
      "cell_type": "code",
      "execution_count": null,
      "metadata": {
        "colab": {
          "base_uri": "https://localhost:8080/"
        },
        "id": "zlmVhMvdRigL",
        "outputId": "cd9e398e-dba2-42f8-fa88-835323aaed9f"
      },
      "outputs": [
        {
          "name": "stdout",
          "output_type": "stream",
          "text": [
            "All CSV files have been cleaned and saved to the output directory.\n"
          ]
        }
      ],
      "source": [
        "import os\n",
        "import pandas as pd\n",
        "\n",
        "source_directory = 'sourcePath'\n",
        "output_directory = 'destinationPath'\n",
        "\n",
        "if not os.path.exists(output_directory):\n",
        "    os.makedirs(output_directory)\n",
        "\n",
        "def clean_csv(file_path):\n",
        "    data = pd.read_csv(file_path, delimiter=';')\n",
        "    data.dropna(axis=1, how='all', inplace=True)\n",
        "    output_file_path = os.path.join(output_directory, os.path.basename(file_path))\n",
        "    data.to_csv(output_file_path, index=False, sep=';')\n",
        "\n",
        "\n",
        "for file_name in os.listdir(source_directory):\n",
        "    if file_name.endswith('.csv'):\n",
        "        file_path = os.path.join(source_directory, file_name)\n",
        "        clean_csv(file_path)\n"
      ]
    },
    {
      "cell_type": "code",
      "execution_count": null,
      "metadata": {
        "id": "5J35amcsSIp2"
      },
      "outputs": [],
      "source": [
        "import numpy as np\n",
        "datadir = \"data\"\n",
        "\n",
        "X_data = []\n",
        "Y_data = []\n",
        "X_val = []\n",
        "Y_val = []\n",
        "\n",
        "\n",
        "files = os.listdir(os.path.join(datadir, \"ctrl\"))\n",
        "for file in files:\n",
        "    path = os.path.join(datadir, \"ctrl\", file)\n",
        "    df = pd.read_csv(path)\n",
        "    X_data.append(np.reshape(df.to_numpy(), (-1,)))\n",
        "    Y_data.append(np.array([1.0, 0.0]))\n",
        "\n",
        "files = os.listdir(os.path.join(datadir, \"pt\"))\n",
        "for file in files:\n",
        "    path = os.path.join(datadir, \"pt\", file)\n",
        "    df = pd.read_csv(path).apply(lambda x: x.replace(';', ''))\n",
        "    X_data.append(np.reshape(df.to_numpy(), (-1,)))\n",
        "    Y_data.append(np.array([0.0, 1.0]))\n",
        "\n",
        "files = os.listdir(os.path.join(datadir, \"v\"))\n",
        "files.sort()\n",
        "for file in files:\n",
        "    path = os.path.join(datadir, \"v\", file)\n",
        "    df = pd.read_csv(path)\n",
        "    X_val.append(np.reshape(df.to_numpy(), (-1,)))\n",
        "    if 'd' in file:\n",
        "        Y_val.append(np.array([0.0, 1.0]))\n",
        "    else:\n",
        "        Y_val.append(np.array([1.0, 0.0]))\n"
      ]
    },
    {
      "cell_type": "code",
      "execution_count": null,
      "metadata": {
        "colab": {
          "base_uri": "https://localhost:8080/"
        },
        "id": "FyZTBriuVuhg",
        "outputId": "4be38fac-3cdb-49bf-9d18-199a5896db6e"
      },
      "outputs": [
        {
          "data": {
            "text/plain": [
              "[array([-0.00161 , -0.00189 , -0.00198 , ..., -0.000881, -0.00106 ,\n",
              "        -0.0011  ]),\n",
              " array([-0.000578, -0.000889, -0.00102 , ...,  0.00012 ,  0.000307,\n",
              "         0.000405]),\n",
              " array([-0.00168, -0.00146, -0.00134, ...,  0.00133,  0.00174,  0.00197]),\n",
              " array([-0.00207, -0.00224, -0.00222, ..., -0.00159, -0.00212, -0.00226]),\n",
              " array([-0.00169, -0.00144, -0.00131, ...,  0.00152,  0.00206,  0.00233]),\n",
              " array([-0.0011  , -0.000955, -0.000834, ...,  0.000673,  0.000955,\n",
              "         0.000893]),\n",
              " array([ 9.59e-04, -5.21e-06, -9.57e-04, ...,  4.80e-04,  2.43e-04,\n",
              "         4.28e-04]),\n",
              " array([-0.00164, -0.00188, -0.00197, ..., -0.00091, -0.00114, -0.00121]),\n",
              " array([-0.000728, -0.000637, -0.000505, ..., -0.0011  , -0.00122 ,\n",
              "        -0.00128 ]),\n",
              " array([ 1.30e-03,  6.09e-04, -1.12e-04, ...,  1.89e-04,  9.57e-05,\n",
              "         3.25e-04]),\n",
              " array([ 0.000451, -0.000373, -0.00126 , ..., -0.000488, -0.00035 ,\n",
              "         0.000122]),\n",
              " array([-1.76e-04, -8.60e-04, -1.52e-03, ..., -4.47e-04, -4.29e-04,\n",
              "         3.75e-05]),\n",
              " array([-0.00182, -0.00168, -0.00167, ...,  0.00173,  0.00234,  0.00264]),\n",
              " array([-0.000739, -0.00109 , -0.00125 , ...,  0.000118,  0.00025 ,\n",
              "         0.000326]),\n",
              " array([-0.000578, -0.000889, -0.00102 , ...,  0.00012 ,  0.000307,\n",
              "         0.000405]),\n",
              " array([-0.00198, -0.00175, -0.00163, ...,  0.00193,  0.00245,  0.0026 ]),\n",
              " array([-0.00143 , -0.00176 , -0.00189 , ..., -0.0005  , -0.000584,\n",
              "        -0.000623]),\n",
              " array([-4.51e-04, -7.02e-04, -7.64e-04, ...,  2.73e-05,  1.49e-04,\n",
              "         2.34e-04]),\n",
              " array([-9.30e-04, -8.28e-04, -7.19e-04, ...,  9.04e-05,  2.81e-04,\n",
              "         2.60e-04]),\n",
              " array([-0.000173, -0.000902, -0.00159 , ..., -0.000264, -0.00026 ,\n",
              "         0.000152]),\n",
              " array([ 7.49e-04, -1.47e-04, -1.07e-03, ..., -6.67e-05, -2.04e-04,\n",
              "         5.37e-05]),\n",
              " array([ 0.00135 ,  0.000561, -0.000241, ...,  0.0008  ,  0.000694,\n",
              "         0.001   ]),\n",
              " array([-0.000863, -0.000702, -0.000534, ..., -0.00106 , -0.000734,\n",
              "        -0.000483]),\n",
              " array([-1.10e-03, -1.47e-03, -1.65e-03, ..., -7.61e-05, -4.88e-05,\n",
              "        -5.19e-05]),\n",
              " array([-0.00133, -0.00115, -0.00106, ...,  0.00144,  0.00177,  0.00174]),\n",
              " array([ 0.00129 ,  0.000455, -0.000401, ...,  0.00103 ,  0.000791,\n",
              "         0.000968]),\n",
              " array([ 0.000858,  0.000281, -0.000299, ..., -0.00045 , -0.000502,\n",
              "        -0.000265]),\n",
              " array([0.00106 , 0.00125 , 0.00143 , ..., 0.000971, 0.000838, 0.000636]),\n",
              " array([ 0.000387,  0.000184, -0.000161, ..., -0.000555, -0.000426,\n",
              "        -0.000305]),\n",
              " array([ 0.000226, -0.00022 , -0.000638, ..., -0.00032 , -0.000223,\n",
              "        -0.000128]),\n",
              " array([-0.000725, -0.000863, -0.000708, ...,  0.000438,  0.000399,\n",
              "         0.000283]),\n",
              " array([ 0.0004  ,  0.000346,  0.000207, ..., -0.00154 , -0.0011  ,\n",
              "        -0.000289]),\n",
              " array([0.000557, 0.00078 , 0.00103 , ..., 0.000901, 0.000813, 0.000688]),\n",
              " array([0.000755, 0.000899, 0.00106 , ..., 0.00113 , 0.00105 , 0.000889]),\n",
              " array([6.55e-05, 3.38e-04, 6.95e-04, ..., 8.56e-04, 7.98e-04, 6.81e-04]),\n",
              " array([0.00106 , 0.0013  , 0.00149 , ..., 0.00103 , 0.000783, 0.000361]),\n",
              " array([ 3.73e-04, -5.14e-05, -5.00e-04, ..., -3.78e-04, -4.24e-04,\n",
              "        -3.64e-04]),\n",
              " array([ 0.000529,  0.000492,  0.000346, ..., -0.00165 , -0.00132 ,\n",
              "        -0.00042 ]),\n",
              " array([0.000657, 0.000832, 0.000992, ..., 0.000915, 0.000734, 0.000459]),\n",
              " array([ 5.31e-04,  5.88e-04,  4.64e-04, ..., -8.45e-05,  9.22e-05,\n",
              "         2.47e-04]),\n",
              " array([ 2.74e-04,  2.29e-04, -1.11e-05, ..., -2.11e-04, -1.65e-04,\n",
              "        -4.78e-05]),\n",
              " array([8.15e-05, 3.55e-04, 6.90e-04, ..., 2.98e-04, 3.52e-04, 3.83e-04]),\n",
              " array([0.000353, 0.000339, 0.000128, ..., 0.000359, 0.000529, 0.000628]),\n",
              " array([-5.93e-04, -2.92e-04,  9.46e-05, ...,  2.80e-04,  2.37e-04,\n",
              "         1.79e-04]),\n",
              " array([-8.06e-05, -2.76e-04, -6.06e-04, ..., -7.19e-04, -6.36e-04,\n",
              "        -5.94e-04]),\n",
              " array([ 0.00103 ,  0.00129 ,  0.00152 , ...,  0.000667,  0.000259,\n",
              "        -0.000292]),\n",
              " array([ 1.98e-04,  1.42e-04, -4.54e-06, ..., -3.50e-04, -1.01e-04,\n",
              "         2.45e-04]),\n",
              " array([-3.95e-05, -1.52e-04, -4.10e-04, ..., -7.90e-04, -7.02e-04,\n",
              "        -6.47e-04]),\n",
              " array([-8.06e-05, -2.76e-04, -6.06e-04, ..., -7.19e-04, -6.36e-04,\n",
              "        -5.94e-04]),\n",
              " array([ 0.000387,  0.000184, -0.000161, ..., -0.000555, -0.000426,\n",
              "        -0.000305]),\n",
              " array([3.64e-04, 3.43e-04, 9.21e-05, ..., 3.82e-05, 1.16e-04, 1.90e-04]),\n",
              " array([-0.000246, -0.000456, -0.000796, ..., -0.000707, -0.000609,\n",
              "        -0.000553]),\n",
              " array([ 6.46e-04,  3.39e-04, -5.14e-05, ...,  3.94e-04,  3.28e-04,\n",
              "         2.42e-04]),\n",
              " array([0.000324, 0.000386, 0.000262, ..., 0.000131, 0.000321, 0.000423]),\n",
              " array([-0.000165, -0.000449, -0.000858, ..., -0.000671, -0.000466,\n",
              "        -0.000344]),\n",
              " array([0.000771, 0.000955, 0.00112 , ..., 0.00123 , 0.00106 , 0.000794]),\n",
              " array([ 3.77e-04,  4.19e-04,  2.94e-04, ..., -2.22e-06,  1.25e-04,\n",
              "         2.18e-04])]"
            ]
          },
          "execution_count": 41,
          "metadata": {},
          "output_type": "execute_result"
        }
      ],
      "source": [
        "X_data\n"
      ]
    },
    {
      "cell_type": "code",
      "execution_count": null,
      "metadata": {
        "id": "gL125sAHS7vC"
      },
      "outputs": [],
      "source": [
        "def extract_features(arrays):\n",
        "    features = []\n",
        "    for array in arrays:\n",
        "        mean = np.mean(array)\n",
        "        std = np.std(array)\n",
        "        min_val = np.min(array)\n",
        "        max_val = np.max(array)\n",
        "        median = np.median(array)\n",
        "        range_val = max_val - min_val\n",
        "        q1 = np.percentile(array, 25)\n",
        "        q3 = np.percentile(array, 75)\n",
        "\n",
        "        features.append({\n",
        "            \"mean\": mean,\n",
        "            \"std\": std,\n",
        "            \"min\": min_val,\n",
        "            \"max\": max_val,\n",
        "            \"median\": median,\n",
        "            \"range\": range_val,\n",
        "            \"q1\": q1,\n",
        "            \"q3\": q3\n",
        "        })\n",
        "\n",
        "    features = pd.DataFrame(features)\n",
        "    return features\n"
      ]
    },
    {
      "cell_type": "code",
      "execution_count": null,
      "metadata": {
        "id": "LLubi5U3XLVA"
      },
      "outputs": [],
      "source": [
        "feature_set = extract_features(X_data)\n",
        "feature_set_val = extract_features(X_val)\n"
      ]
    },
    {
      "cell_type": "code",
      "execution_count": null,
      "metadata": {
        "colab": {
          "base_uri": "https://localhost:8080/"
        },
        "id": "CcVukaQtXUUf",
        "outputId": "fb4b1253-7082-42d4-f99a-a21037dbd685"
      },
      "outputs": [
        {
          "name": "stdout",
          "output_type": "stream",
          "text": [
            "Accuracy: 0.6666666666666666\n",
            "Classification Report:\n",
            "               precision    recall  f1-score   support\n",
            "\n",
            "           0       1.00      0.33      0.50         3\n",
            "           1       0.60      1.00      0.75         3\n",
            "\n",
            "   micro avg       0.67      0.67      0.67         6\n",
            "   macro avg       0.80      0.67      0.62         6\n",
            "weighted avg       0.80      0.67      0.62         6\n",
            " samples avg       0.67      0.67      0.67         6\n",
            "\n"
          ]
        }
      ],
      "source": [
        "from sklearn.ensemble import RandomForestClassifier\n",
        "from sklearn.model_selection import train_test_split\n",
        "from sklearn.metrics import accuracy_score, classification_report\n",
        "\n",
        "\n",
        "clf = RandomForestClassifier(n_estimators=100, random_state=42)\n",
        "clf.fit(feature_set, Y_data)\n",
        "y_pred = clf.predict(feature_set_val)\n",
        "\n",
        "print(\"Accuracy:\", accuracy_score(Y_val, y_pred))\n",
        "print(\"Classification Report:\\n\", classification_report(Y_val, y_pred))\n"
      ]
    },
    {
      "cell_type": "code",
      "execution_count": null,
      "metadata": {
        "colab": {
          "base_uri": "https://localhost:8080/"
        },
        "id": "uzN938UeeJMt",
        "outputId": "eb9665a3-d105-4ebf-bb34-8661574a474a"
      },
      "outputs": [
        {
          "name": "stdout",
          "output_type": "stream",
          "text": [
            "Fitting 5 folds for each of 144 candidates, totalling 720 fits\n"
          ]
        },
        {
          "name": "stderr",
          "output_type": "stream",
          "text": [
            "/usr/local/lib/python3.10/dist-packages/sklearn/model_selection/_validation.py:540: FitFailedWarning: \n",
            "240 fits failed out of a total of 720.\n",
            "The score on these train-test partitions for these parameters will be set to nan.\n",
            "If these failures are not expected, you can try to debug them by setting error_score='raise'.\n",
            "\n",
            "Below are more details about the failures:\n",
            "--------------------------------------------------------------------------------\n",
            "240 fits failed with the following error:\n",
            "Traceback (most recent call last):\n",
            "  File \"/usr/local/lib/python3.10/dist-packages/sklearn/model_selection/_validation.py\", line 888, in _fit_and_score\n",
            "    estimator.fit(X_train, y_train, **fit_params)\n",
            "  File \"/usr/local/lib/python3.10/dist-packages/sklearn/base.py\", line 1466, in wrapper\n",
            "    estimator._validate_params()\n",
            "  File \"/usr/local/lib/python3.10/dist-packages/sklearn/base.py\", line 666, in _validate_params\n",
            "    validate_parameter_constraints(\n",
            "  File \"/usr/local/lib/python3.10/dist-packages/sklearn/utils/_param_validation.py\", line 95, in validate_parameter_constraints\n",
            "    raise InvalidParameterError(\n",
            "sklearn.utils._param_validation.InvalidParameterError: The 'max_features' parameter of RandomForestClassifier must be an int in the range [1, inf), a float in the range (0.0, 1.0], a str among {'log2', 'sqrt'} or None. Got 'auto' instead.\n",
            "\n",
            "  warnings.warn(some_fits_failed_message, FitFailedWarning)\n",
            "/usr/local/lib/python3.10/dist-packages/numpy/ma/core.py:2820: RuntimeWarning: invalid value encountered in cast\n",
            "  _data = np.array(data, dtype=dtype, copy=copy,\n",
            "/usr/local/lib/python3.10/dist-packages/sklearn/model_selection/_search.py:1103: UserWarning: One or more of the test scores are non-finite: [       nan        nan        nan        nan        nan        nan\n",
            "        nan        nan        nan        nan        nan        nan\n",
            " 0.79090909 0.75454545 0.75606061 0.77272727 0.75454545 0.73484848\n",
            " 0.80454545 0.71969697 0.67121212 0.68484848 0.68333333 0.7030303\n",
            " 0.77272727 0.77121212 0.80757576 0.77272727 0.82575758 0.77121212\n",
            " 0.77121212 0.77121212 0.66666667 0.70151515 0.68484848 0.70151515\n",
            "        nan        nan        nan        nan        nan        nan\n",
            "        nan        nan        nan        nan        nan        nan\n",
            " 0.82575758 0.82424242 0.80757576 0.80606061 0.71818182 0.80606061\n",
            " 0.78787879 0.75151515 0.77575758 0.7        0.71818182 0.7030303\n",
            " 0.61969697 0.77121212 0.80606061 0.80757576 0.75757576 0.77272727\n",
            " 0.77424242 0.7530303  0.77121212 0.68181818 0.66515152 0.66666667\n",
            "        nan        nan        nan        nan        nan        nan\n",
            "        nan        nan        nan        nan        nan        nan\n",
            " 0.75757576 0.80606061 0.73787879 0.77272727 0.73636364 0.7530303\n",
            " 0.78939394 0.71969697 0.61666667 0.73636364 0.68333333 0.65151515\n",
            " 0.66969697 0.80757576 0.78939394 0.77272727 0.68787879 0.79090909\n",
            " 0.77121212 0.82424242 0.68181818 0.63181818 0.68333333 0.7\n",
            "        nan        nan        nan        nan        nan        nan\n",
            "        nan        nan        nan        nan        nan        nan\n",
            " 0.69242424 0.75606061 0.73787879 0.77272727 0.80757576 0.80606061\n",
            " 0.7530303  0.77121212 0.6469697  0.73636364 0.71969697 0.65\n",
            " 0.6530303  0.80757576 0.79090909 0.75606061 0.74090909 0.79393939\n",
            " 0.78787879 0.73636364 0.69848485 0.71969697 0.70151515 0.7       ]\n",
            "  warnings.warn(\n"
          ]
        }
      ],
      "source": [
        "from sklearn.model_selection import GridSearchCV\n",
        "\n",
        "param_grid_rf = {\n",
        "    'n_estimators': [10, 50, 100, 200],\n",
        "    'max_features': ['auto', 'sqrt', 'log2'],\n",
        "    'max_depth': [None, 10, 20, 30],\n",
        "    'min_samples_split': [2, 5, 10]\n",
        "}\n",
        "\n",
        "grid_search_rf = GridSearchCV(RandomForestClassifier(), param_grid_rf, cv=5, verbose=1)\n",
        "grid_search_rf.fit(feature_set, Y_data)\n",
        "best_rf = grid_search_rf.best_estimator_\n"
      ]
    },
    {
      "cell_type": "code",
      "execution_count": null,
      "metadata": {
        "colab": {
          "base_uri": "https://localhost:8080/"
        },
        "id": "MHs_3udNd8rM",
        "outputId": "fa28e8d1-1902-4e92-8ac0-36af2a9adbb3"
      },
      "outputs": [
        {
          "name": "stdout",
          "output_type": "stream",
          "text": [
            "Accuracy: 0.6666666666666666\n",
            "Classification Report:\n",
            "               precision    recall  f1-score   support\n",
            "\n",
            "           0       1.00      0.33      0.50         3\n",
            "           1       0.60      1.00      0.75         3\n",
            "\n",
            "   micro avg       0.67      0.67      0.67         6\n",
            "   macro avg       0.80      0.67      0.62         6\n",
            "weighted avg       0.80      0.67      0.62         6\n",
            " samples avg       0.67      0.67      0.67         6\n",
            "\n"
          ]
        }
      ],
      "source": [
        "from sklearn.neighbors import KNeighborsClassifier\n",
        "knn_model = KNeighborsClassifier(n_neighbors=5)\n",
        "knn_model.fit(feature_set, Y_data)\n",
        "knn_pred = knn_model.predict(feature_set_val)\n",
        "\n",
        "print(\"Accuracy:\", accuracy_score(Y_val, knn_pred))\n",
        "print(\"Classification Report:\\n\", classification_report(Y_val, knn_pred))\n"
      ]
    },
    {
      "cell_type": "code",
      "execution_count": null,
      "metadata": {
        "id": "YXuw8_0je9hC"
      },
      "outputs": [],
      "source": [
        "Y_data = np.argmax(Y_data, axis=1)\n",
        "Y_val = np.argmax(Y_val, axis=1)\n"
      ]
    },
    {
      "cell_type": "code",
      "execution_count": null,
      "metadata": {
        "colab": {
          "base_uri": "https://localhost:8080/"
        },
        "id": "aKM2TE5Da9yo",
        "outputId": "6284419d-2738-4b13-8cb9-7d863593555d"
      },
      "outputs": [
        {
          "name": "stdout",
          "output_type": "stream",
          "text": [
            "Accuracy: 0.5\n",
            "Classification Report:\n",
            "               precision    recall  f1-score   support\n",
            "\n",
            "           0       0.00      0.00      0.00         3\n",
            "           1       0.50      1.00      0.67         3\n",
            "\n",
            "    accuracy                           0.50         6\n",
            "   macro avg       0.25      0.50      0.33         6\n",
            "weighted avg       0.25      0.50      0.33         6\n",
            "\n"
          ]
        },
        {
          "name": "stderr",
          "output_type": "stream",
          "text": [
            "/usr/local/lib/python3.10/dist-packages/sklearn/metrics/_classification.py:1531: UndefinedMetricWarning: Precision is ill-defined and being set to 0.0 in labels with no predicted samples. Use `zero_division` parameter to control this behavior.\n",
            "  _warn_prf(average, modifier, f\"{metric.capitalize()} is\", len(result))\n",
            "/usr/local/lib/python3.10/dist-packages/sklearn/metrics/_classification.py:1531: UndefinedMetricWarning: Precision is ill-defined and being set to 0.0 in labels with no predicted samples. Use `zero_division` parameter to control this behavior.\n",
            "  _warn_prf(average, modifier, f\"{metric.capitalize()} is\", len(result))\n",
            "/usr/local/lib/python3.10/dist-packages/sklearn/metrics/_classification.py:1531: UndefinedMetricWarning: Precision is ill-defined and being set to 0.0 in labels with no predicted samples. Use `zero_division` parameter to control this behavior.\n",
            "  _warn_prf(average, modifier, f\"{metric.capitalize()} is\", len(result))\n"
          ]
        }
      ],
      "source": [
        "from sklearn.svm import SVC\n",
        "svm_model = SVC(kernel='linear', C=1.0)  # Linear kernel\n",
        "svm_model.fit(feature_set, Y_data)\n",
        "svm_pred = svm_model.predict(feature_set_val)\n",
        "\n",
        "print(\"Accuracy:\", accuracy_score(Y_val, svm_pred))\n",
        "print(\"Classification Report:\\n\", classification_report(Y_val, svm_pred))\n"
      ]
    },
    {
      "cell_type": "code",
      "execution_count": null,
      "metadata": {
        "colab": {
          "base_uri": "https://localhost:8080/"
        },
        "id": "muOzrSccgAy4",
        "outputId": "f35512aa-3309-47e7-da06-581c745a8a3e"
      },
      "outputs": [
        {
          "name": "stdout",
          "output_type": "stream",
          "text": [
            "Fitting 5 folds for each of 100 candidates, totalling 500 fits\n"
          ]
        }
      ],
      "source": [
        "from sklearn.model_selection import RandomizedSearchCV\n",
        "from scipy.stats import uniform, randint\n",
        "\n",
        "param_dist_svm = {\n",
        "    'C': uniform(0.1, 10),\n",
        "    'gamma': ['scale', 'auto'],\n",
        "    'kernel': ['linear', 'rbf', 'poly', 'sigmoid']\n",
        "}\n",
        "\n",
        "random_search_svm = RandomizedSearchCV(SVC(), param_distributions=param_dist_svm, n_iter=100, cv=5, verbose=1, random_state=42)\n",
        "random_search_svm.fit(feature_set, Y_data)\n",
        "best_svm = random_search_svm.best_estimator_\n"
      ]
    },
    {
      "cell_type": "code",
      "execution_count": null,
      "metadata": {
        "colab": {
          "base_uri": "https://localhost:8080/"
        },
        "id": "w2Xdrf2ReHdh",
        "outputId": "5a0a70fa-b799-41a7-e811-1a58154171ef"
      },
      "outputs": [
        {
          "name": "stdout",
          "output_type": "stream",
          "text": [
            "Accuracy: 0.5\n",
            "Classification Report:\n",
            "               precision    recall  f1-score   support\n",
            "\n",
            "           0       0.50      0.67      0.57         3\n",
            "           1       0.50      0.33      0.40         3\n",
            "\n",
            "    accuracy                           0.50         6\n",
            "   macro avg       0.50      0.50      0.49         6\n",
            "weighted avg       0.50      0.50      0.49         6\n",
            "\n"
          ]
        }
      ],
      "source": [
        "from sklearn.naive_bayes import GaussianNB\n",
        "nb_model = GaussianNB()\n",
        "nb_model.fit(feature_set, Y_data)\n",
        "nb_pred = nb_model.predict(feature_set_val)\n",
        "\n",
        "print(\"Accuracy:\", accuracy_score(Y_val, nb_pred))\n",
        "print(\"Classification Report:\\n\", classification_report(Y_val, nb_pred))\n"
      ]
    },
    {
      "cell_type": "code",
      "execution_count": null,
      "metadata": {
        "id": "1KhBGM0ngN2v"
      },
      "outputs": [],
      "source": []
    }
  ],
  "metadata": {
    "colab": {
      "provenance": []
    },
    "kernelspec": {
      "display_name": "Python 3",
      "name": "python3"
    },
    "language_info": {
      "name": "python"
    }
  },
  "nbformat": 4,
  "nbformat_minor": 0
}
